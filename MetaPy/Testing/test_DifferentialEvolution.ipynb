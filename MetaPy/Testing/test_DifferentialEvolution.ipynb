{
 "cells": [
  {
   "cell_type": "code",
   "execution_count": 2,
   "metadata": {},
   "outputs": [
    {
     "name": "stderr",
     "output_type": "stream",
     "text": [
      "Cloning into 'cec2017-py'...\n"
     ]
    }
   ],
   "source": [
    "!git clone https://github.com/tilleyd/cec2017-py.git"
   ]
  },
  {
   "cell_type": "code",
   "execution_count": 1,
   "metadata": {},
   "outputs": [],
   "source": [
    "import sys\n",
    "sys.path.insert(1, './cec2017-py')\n",
    "sys.path.insert(1, '../DifferentialEvolution')"
   ]
  },
  {
   "cell_type": "code",
   "execution_count": 2,
   "metadata": {},
   "outputs": [],
   "source": [
    "from DifferentialEvolution import DifferentialEvolution"
   ]
  },
  {
   "cell_type": "code",
   "execution_count": 3,
   "metadata": {},
   "outputs": [],
   "source": [
    "from cec2017 import functions"
   ]
  },
  {
   "cell_type": "code",
   "execution_count": 4,
   "metadata": {},
   "outputs": [],
   "source": [
    "def individual(lower_bound,upper_bound,dimension):\n",
    "    def individual_inner():\n",
    "        from numpy import random , reshape\n",
    "        individual = random.default_rng().uniform(lower_bound,upper_bound,dimension)\n",
    "        return reshape(individual,(1,dimension))\n",
    "    return individual_inner"
   ]
  },
  {
   "cell_type": "code",
   "execution_count": 6,
   "metadata": {},
   "outputs": [
    {
     "name": "stdout",
     "output_type": "stream",
     "text": [
      "f1\t[8.45702601e+12]\n",
      "WARNING: f2 has been deprecated from the CEC 2017 benchmark suite\n",
      "f2\t[2.53908424e+204]\n",
      "f3\t[2.3050295e+17]\n",
      "f4\t[447358.12865833]\n",
      "f5\t[3575.04174885]\n",
      "f6\t[828.58433114]\n",
      "f7\t[18081.82014122]\n",
      "f8\t[3628.23086542]\n",
      "f9\t[362264.60605507]\n",
      "f10\t[39771.9989777]\n",
      "f11\t[2.73325904e+11]\n",
      "f12\t[4.72334441e+12]\n",
      "f13\t[1.64026625e+12]\n",
      "f14\t[4.25588902e+09]\n",
      "f15\t[1.00144886e+12]\n",
      "f16\t[112539.19045954]\n"
     ]
    },
    {
     "name": "stderr",
     "output_type": "stream",
     "text": [
      "c:\\Users\\nenea\\Desktop\\PROYECTOS\\MetaPy\\MetaPy\\Testing\\./cec2017-py\\cec2017\\basic.py:239: RuntimeWarning: invalid value encountered in divide\n",
      "  t = np.abs(tjx - np.round(tjx)) / tj\n"
     ]
    },
    {
     "name": "stdout",
     "output_type": "stream",
     "text": [
      "f17\t[nan]\n",
      "f18\t[1.30607552e+10]\n",
      "f19\t[8.05346222e+11]\n",
      "f20\t[nan]\n",
      "f21\t[6414.60321789]\n",
      "f22\t[44571.39590969]\n",
      "f23\t[9759.69905226]\n",
      "f24\t[19226.59571007]\n",
      "f25\t[244622.19503257]\n",
      "f26\t[180044.5673092]\n",
      "f27\t[21149.86237322]\n",
      "f28\t[91502.60971938]\n",
      "f29\t[nan]\n",
      "f30\t[1.35057219e+12]\n"
     ]
    }
   ],
   "source": [
    "# Dimensiones = 2, 10, 20, 30, 50 or 100\n",
    "# Domain [-100,100]**Dimension\n",
    "\n",
    "lower , upper = -100 , 100\n",
    "dimension = 100\n",
    "\n",
    "iterations = 10\n",
    "populationSize = 50\n",
    "scalingFactor = 0.5\n",
    "crossoverRate = 0.2\n",
    "\n",
    "for f in functions.all_functions:\n",
    "    try:\n",
    "        DiffEvol = DifferentialEvolution(f,individual(lower,upper,dimension))\n",
    "        optimalFound , snapshots = DiffEvol(iterations,populationSize,scalingFactor,crossoverRate)\n",
    "        print(f.__name__,f(optimalFound),sep='\\t')\n",
    "    except:\n",
    "        print(f\"{f.__name__}\\tdoesn't work\")"
   ]
  }
 ],
 "metadata": {
  "kernelspec": {
   "display_name": "Python 3",
   "language": "python",
   "name": "python3"
  },
  "language_info": {
   "codemirror_mode": {
    "name": "ipython",
    "version": 3
   },
   "file_extension": ".py",
   "mimetype": "text/x-python",
   "name": "python",
   "nbconvert_exporter": "python",
   "pygments_lexer": "ipython3",
   "version": "3.10.4"
  }
 },
 "nbformat": 4,
 "nbformat_minor": 2
}
