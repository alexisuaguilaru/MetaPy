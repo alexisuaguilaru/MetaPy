{
 "cells": [
  {
   "cell_type": "markdown",
   "metadata": {},
   "source": [
    "## Importing Required Libraries"
   ]
  },
  {
   "cell_type": "code",
   "execution_count": null,
   "metadata": {},
   "outputs": [],
   "source": [
    "#Uncomment to download the library required to test CEC test functions\n",
    "#!pip install opfunu"
   ]
  },
  {
   "cell_type": "code",
   "execution_count": 1,
   "metadata": {},
   "outputs": [],
   "source": [
    "#Functions to handle with relative imports\n",
    "import sys\n",
    "sys.path.insert(1, '../MetaPy/DifferentialEvolution')"
   ]
  },
  {
   "cell_type": "code",
   "execution_count": 2,
   "metadata": {},
   "outputs": [],
   "source": [
    "#Imports of class and functions required\n",
    "from opfunu import get_functions_by_classname\n",
    "from DifferentialEvolution_ReductionPopulation import DifferentialEvolution_ReductionPopulation\n",
    "from sklearn import cluster\n",
    "from PlottingFunctions import PlottingSnapshots , PlottingOptimalsFound"
   ]
  },
  {
   "cell_type": "markdown",
   "metadata": {},
   "source": [
    "## Auxiliar Functions"
   ]
  },
  {
   "cell_type": "markdown",
   "metadata": {},
   "source": [
    "## Differential Evolution Reduction Population"
   ]
  },
  {
   "cell_type": "code",
   "execution_count": 5,
   "metadata": {},
   "outputs": [],
   "source": [
    "#Init Diff Evol\n",
    "functionNumber = '1'\n",
    "dimension = 2   #Dimensions = 2, 10, 20, 30, 50 or 100. Some functions doesn't work with all dimensions\n",
    "objectiveFunction = objectiveFunctionCEC(functionNumber,dimension=dimension)\n",
    "\n",
    "lower , upper = -100 , 100\n",
    "initializeIndividual = individual(lower,upper,dimension)\n",
    "\n",
    "DiffEvol_RedPop = DifferentialEvolution_ReductionPopulation(objectiveFunction,initializeIndividual)"
   ]
  },
  {
   "cell_type": "code",
   "execution_count": 6,
   "metadata": {},
   "outputs": [
    {
     "ename": "ValueError",
     "evalue": "all the input arrays must have same number of dimensions, but the array at index 0 has 2 dimension(s) and the array at index 1 has 1 dimension(s)",
     "output_type": "error",
     "traceback": [
      "\u001b[1;31m---------------------------------------------------------------------------\u001b[0m",
      "\u001b[1;31mValueError\u001b[0m                                Traceback (most recent call last)",
      "Cell \u001b[1;32mIn[6], line 7\u001b[0m\n\u001b[0;32m      4\u001b[0m scalingFactor \u001b[38;5;241m=\u001b[39m \u001b[38;5;241m0.7\u001b[39m\n\u001b[0;32m      5\u001b[0m crossoverRate \u001b[38;5;241m=\u001b[39m \u001b[38;5;241m0.5\u001b[39m\n\u001b[1;32m----> 7\u001b[0m optimalFound , snapshots \u001b[38;5;241m=\u001b[39m \u001b[43mDiffEvol_RedPop\u001b[49m\u001b[43m(\u001b[49m\u001b[43mpopulationSize\u001b[49m\u001b[43m,\u001b[49m\u001b[43mscalingFactor\u001b[49m\u001b[43m,\u001b[49m\u001b[43mcrossoverRate\u001b[49m\u001b[43m)\u001b[49m\n",
      "File \u001b[1;32mc:\\Users\\nenea\\Desktop\\PROYECTOS\\MetaPy\\Testing\\../MetaPy/DifferentialEvolution\\DifferentialEvolution_ReductionPopulation.py:35\u001b[0m, in \u001b[0;36mDifferentialEvolution_ReductionPopulation.__call__\u001b[1;34m(self, populationSize, scalingFactor, crossoverRate)\u001b[0m\n\u001b[0;32m     33\u001b[0m \u001b[38;5;28;01mif\u001b[39;00m iteration\u001b[38;5;241m%\u001b[39m\u001b[38;5;241m10\u001b[39m \u001b[38;5;241m==\u001b[39m \u001b[38;5;241m0\u001b[39m \u001b[38;5;129;01mand\u001b[39;00m iteration \u001b[38;5;241m!=\u001b[39m \u001b[38;5;241m0\u001b[39m:\n\u001b[0;32m     34\u001b[0m     \u001b[38;5;28mself\u001b[39m\u001b[38;5;241m.\u001b[39mdiffevol_redpop_ReductionPopulation()\n\u001b[1;32m---> 35\u001b[0m     \u001b[38;5;28;43mself\u001b[39;49m\u001b[38;5;241;43m.\u001b[39;49m\u001b[43mdiffevol_redpop_IncreasePopulation\u001b[49m\u001b[43m(\u001b[49m\u001b[43m)\u001b[49m\n\u001b[0;32m     36\u001b[0m \u001b[38;5;28mself\u001b[39m\u001b[38;5;241m.\u001b[39mdiffevol_IterativeSearch(iteration)\n\u001b[0;32m     37\u001b[0m iteration \u001b[38;5;241m+\u001b[39m\u001b[38;5;241m=\u001b[39m \u001b[38;5;241m1\u001b[39m\n",
      "File \u001b[1;32mc:\\Users\\nenea\\Desktop\\PROYECTOS\\MetaPy\\Testing\\../MetaPy/DifferentialEvolution\\DifferentialEvolution_ReductionPopulation.py:85\u001b[0m, in \u001b[0;36mDifferentialEvolution_ReductionPopulation.diffevol_redpop_IncreasePopulation\u001b[1;34m(self)\u001b[0m\n\u001b[0;32m     83\u001b[0m     newIndividualsFitnessValues\u001b[38;5;241m.\u001b[39mappend(\u001b[38;5;28mself\u001b[39m\u001b[38;5;241m.\u001b[39mobjectiveFunction(individualGenerated))\n\u001b[0;32m     84\u001b[0m \u001b[38;5;28mself\u001b[39m\u001b[38;5;241m.\u001b[39mpopulationSize \u001b[38;5;241m+\u001b[39m\u001b[38;5;241m=\u001b[39m numIncreasePopulation\n\u001b[1;32m---> 85\u001b[0m \u001b[38;5;28mself\u001b[39m\u001b[38;5;241m.\u001b[39mpopulation \u001b[38;5;241m=\u001b[39m \u001b[43mnp\u001b[49m\u001b[38;5;241;43m.\u001b[39;49m\u001b[43mconcatenate\u001b[49m\u001b[43m(\u001b[49m\u001b[43m(\u001b[49m\u001b[38;5;28;43mself\u001b[39;49m\u001b[38;5;241;43m.\u001b[39;49m\u001b[43mpopulation\u001b[49m\u001b[43m,\u001b[49m\u001b[43mnewIndividuals\u001b[49m\u001b[43m)\u001b[49m\u001b[43m)\u001b[49m\n\u001b[0;32m     86\u001b[0m \u001b[38;5;28mself\u001b[39m\u001b[38;5;241m.\u001b[39mfitnessValuesPopulation \u001b[38;5;241m=\u001b[39m np\u001b[38;5;241m.\u001b[39mconcatenate((\u001b[38;5;28mself\u001b[39m\u001b[38;5;241m.\u001b[39mfitnessValuesPopulation,newIndividualsFitnessValues))\n\u001b[0;32m     87\u001b[0m \u001b[38;5;28mself\u001b[39m\u001b[38;5;241m.\u001b[39moptimalIndividual , \u001b[38;5;28mself\u001b[39m\u001b[38;5;241m.\u001b[39moptimalValue \u001b[38;5;241m=\u001b[39m \u001b[38;5;28mself\u001b[39m\u001b[38;5;241m.\u001b[39mdiffevol_BestOptimalFound()\n",
      "\u001b[1;31mValueError\u001b[0m: all the input arrays must have same number of dimensions, but the array at index 0 has 2 dimension(s) and the array at index 1 has 1 dimension(s)"
     ]
    }
   ],
   "source": [
    "#Calling Diff Evol to find optimal\n",
    "iterations = 100\n",
    "populationSize = 100\n",
    "scalingFactor = 0.7\n",
    "crossoverRate = 0.5\n",
    "\n",
    "optimalFound , snapshots = DiffEvol_RedPop(populationSize,scalingFactor,crossoverRate)"
   ]
  },
  {
   "cell_type": "code",
   "execution_count": null,
   "metadata": {},
   "outputs": [
    {
     "data": {
      "image/png": "[encoded data removed]",
      "text/plain": [
       "<Figure size 1000x600 with 1 Axes>"
      ]
     },
     "metadata": {},
     "output_type": "display_data"
    }
   ],
   "source": [
    "#Plotting of optimal values at each iteration\n",
    "\n",
    "PlottingOptimalsFound(snapshots,YScale='log')"
   ]
  },
  {
   "cell_type": "code",
   "execution_count": 3,
   "metadata": {},
   "outputs": [],
   "source": [
    "def objectiveFunctionCEC(functionNumber:str,yearCEC:str='2017',dimension:int=2):\n",
    "    \"\"\"\n",
    "        Function wrapper to return the CEC's function with the given parameters\n",
    "        -- functionNumber : Function's number\n",
    "        -- yearCEC : Function's year which belongs\n",
    "        -- dimension : Function's dimensions\n",
    "    \"\"\"    \n",
    "    function = get_functions_by_classname(f'F{functionNumber}{yearCEC}')[0](ndim=dimension)\n",
    "    def objectiveFunction_inner(solutionVector):\n",
    "        return function.evaluate(solutionVector)\n",
    "    return objectiveFunction_inner"
   ]
  },
  {
   "cell_type": "code",
   "execution_count": 4,
   "metadata": {},
   "outputs": [],
   "source": [
    "def individual(lower_bound:float=-100,upper_bound:float=100,dimension:int=2):\n",
    "    \"\"\"\n",
    "        Function to create a random individual\n",
    "        -- lower_bound : Minimum value to each individual's component\n",
    "        -- upper_bound : Maximum value to each individual's component\n",
    "        -- dimension : Individual's dimension\n",
    "    \"\"\"\n",
    "    def individual_inner():\n",
    "        from numpy import random\n",
    "        individual = random.default_rng().uniform(lower_bound,upper_bound,dimension)\n",
    "        return individual\n",
    "    return individual_inner"
   ]
  }
 ],
 "metadata": {
  "kernelspec": {
   "display_name": "Python 3",
   "language": "python",
   "name": "python3"
  },
  "language_info": {
   "codemirror_mode": {
    "name": "ipython",
    "version": 3
   },
   "file_extension": ".py",
   "mimetype": "text/x-python",
   "name": "python",
   "nbconvert_exporter": "python",
   "pygments_lexer": "ipython3",
   "version": "3.10.4"
  }
 },
 "nbformat": 4,
 "nbformat_minor": 2
}
