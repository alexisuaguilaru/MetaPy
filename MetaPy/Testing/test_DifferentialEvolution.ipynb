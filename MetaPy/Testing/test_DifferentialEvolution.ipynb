{
 "cells": [
  {
   "cell_type": "code",
   "execution_count": 2,
   "metadata": {},
   "outputs": [
    {
     "name": "stderr",
     "output_type": "stream",
     "text": [
      "Cloning into 'cec2017-py'...\n"
     ]
    }
   ],
   "source": [
    "!git clone https://github.com/tilleyd/cec2017-py.git"
   ]
  },
  {
   "cell_type": "code",
   "execution_count": 1,
   "metadata": {},
   "outputs": [],
   "source": [
    "import sys\n",
    "sys.path.insert(1, './cec2017-py')\n",
    "sys.path.insert(1, '../DifferentialEvolution')"
   ]
  },
  {
   "cell_type": "code",
   "execution_count": 2,
   "metadata": {},
   "outputs": [],
   "source": [
    "from DifferentialEvolution import DifferentialEvolution"
   ]
  },
  {
   "cell_type": "code",
   "execution_count": 3,
   "metadata": {},
   "outputs": [],
   "source": [
    "from cec2017 import functions"
   ]
  },
  {
   "cell_type": "code",
   "execution_count": 4,
   "metadata": {},
   "outputs": [],
   "source": [
    "def individual(lower_bound,upper_bound,dimension):\n",
    "    def individual_inner():\n",
    "        from numpy import random , reshape\n",
    "        individual = random.default_rng().uniform(lower_bound,upper_bound,dimension)\n",
    "        return reshape(individual,(1,dimension))\n",
    "    return individual_inner"
   ]
  },
  {
   "cell_type": "code",
   "execution_count": 5,
   "metadata": {},
   "outputs": [
    {
     "name": "stdout",
     "output_type": "stream",
     "text": [
      "f1\t[8.43401908e+12]\n"
     ]
    }
   ],
   "source": [
    "# Dimensiones = 2, 10, 20, 30, 50 or 100\n",
    "# Domain [-100,100]**Dimension\n",
    "\n",
    "lower , upper = -100 , 100\n",
    "dimension = 100\n",
    "\n",
    "iterations = 100\n",
    "populationSize = 50\n",
    "scalingFactor = 0.5\n",
    "crossoverRate = 0.2\n",
    "\n",
    "for f in [functions.f1]:\n",
    "    try:\n",
    "        DiffEvol = DifferentialEvolution(f,individual(lower,upper,dimension))\n",
    "        optimalFound , snapshots = DiffEvol(iterations,populationSize,scalingFactor,crossoverRate)\n",
    "        print(f.__name__,f(optimalFound),sep='\\t')\n",
    "    except:\n",
    "        print(f\"{f.__name__}\\tdoesn't work\")"
   ]
  }
 ],
 "metadata": {
  "kernelspec": {
   "display_name": "Python 3",
   "language": "python",
   "name": "python3"
  },
  "language_info": {
   "codemirror_mode": {
    "name": "ipython",
    "version": 3
   },
   "file_extension": ".py",
   "mimetype": "text/x-python",
   "name": "python",
   "nbconvert_exporter": "python",
   "pygments_lexer": "ipython3",
   "version": "3.10.4"
  }
 },
 "nbformat": 4,
 "nbformat_minor": 2
}
