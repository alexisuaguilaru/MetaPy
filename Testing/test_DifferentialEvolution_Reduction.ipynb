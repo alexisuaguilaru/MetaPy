{
 "cells": [
  {
   "cell_type": "markdown",
   "metadata": {},
   "source": [
    "## Importing Required Libraries"
   ]
  },
  {
   "cell_type": "code",
   "execution_count": 2,
   "metadata": {},
   "outputs": [],
   "source": [
    "#Uncomment to download the library required to test CEC test functions\n",
    "# !pip install opfunu\n",
    "# !pip install --upgrade opfunu"
   ]
  },
  {
   "cell_type": "code",
   "execution_count": 3,
   "metadata": {},
   "outputs": [],
   "source": [
    "#Functions to handle with relative imports\n",
    "import sys\n",
    "sys.path.insert(1, '../')"
   ]
  },
  {
   "cell_type": "code",
   "execution_count": 4,
   "metadata": {},
   "outputs": [],
   "source": [
    "#Imports of class and functions required\n",
    "from MetaPy.DifferentialEvolution.DifferentialEvolution_Reduction_Agglomerative import DifferentialEvolution_Reduction_Agglomerative\n",
    "from MetaPy.DifferentialEvolution.DifferentialEvolution_Reduction_RandomSample import DifferentialEvolution_Reduction_RandomSample\n",
    "from MetaPy.DifferentialEvolution.DifferentialEvolution_RandomParameters import DifferentialEvolution_RandomParameters\n",
    "\n",
    "from PlottingFunctions import PlottingSnapshots , PlottingOptimalsFound_Iterations\n",
    "from AuxiliarFunctions import objectiveFunctionCEC , individual"
   ]
  },
  {
   "cell_type": "markdown",
   "metadata": {},
   "source": [
    "## Differential Evolution with Random Parameters"
   ]
  },
  {
   "cell_type": "code",
   "execution_count": 5,
   "metadata": {},
   "outputs": [],
   "source": [
    "functionNumber = '9'\n",
    "dimension = 2  #Dimensions = 2, 10, 20, 30, 50 or 100. Some functions doesn't work with all dimensions\n",
    "objectiveFunction = objectiveFunctionCEC(functionNumber,dimension=dimension)\n",
    "\n",
    "lower , upper = -100 , 100\n",
    "initializeIndividual = individual(lower,upper,dimension)\n",
    "\n",
    "DiffEvol = DifferentialEvolution_RandomParameters(objectiveFunction,initializeIndividual)\n",
    "\n",
    "iterations = 100\n",
    "populationSize = 50\n",
    "\n",
    "optimalFound_random , snapshots_random =  DiffEvol(iterations,populationSize)"
   ]
  },
  {
   "cell_type": "code",
   "execution_count": 6,
   "metadata": {},
   "outputs": [],
   "source": [
    "# PlottingOptimalsFound_Iterations(snapshots_random)"
   ]
  },
  {
   "cell_type": "code",
   "execution_count": 7,
   "metadata": {},
   "outputs": [],
   "source": [
    "SubPlot_kw = {'autoscale_on':False,'xbound':(-200,200),'ybound':(-200,200)}\n",
    "\n",
    "#PlottingSnapshots(snapshots_random,9,SubPlot_kw)"
   ]
  },
  {
   "cell_type": "markdown",
   "metadata": {},
   "source": [
    "## Differential Evolution with Agglomerative Clustering"
   ]
  },
  {
   "cell_type": "code",
   "execution_count": null,
   "metadata": {},
   "outputs": [],
   "source": [
    "functionNumber = '9'\n",
    "dimension = 2  #Dimensions = 2, 10, 20, 30, 50 or 100. Some functions doesn't work with all dimensions\n",
    "objectiveFunction = objectiveFunctionCEC(functionNumber,dimension=dimension)\n",
    "\n",
    "lower , upper = -100 , 100\n",
    "initializeIndividual = individual(lower,upper,dimension)\n",
    "\n",
    "DiffEvol = DifferentialEvolution_Reduction_Agglomerative(objectiveFunction,initializeIndividual)\n",
    "\n",
    "iterations = 100\n",
    "populationSize = 50\n",
    "scalingFactor = 0.5\n",
    "crossoverRate = 0.5\n",
    "\n",
    "optimalFound_agglomerative , snapshots_agglomerative =  DiffEvol(iterations,populationSize,scalingFactor,crossoverRate)"
   ]
  },
  {
   "cell_type": "code",
   "execution_count": 9,
   "metadata": {},
   "outputs": [],
   "source": [
    "# PlottingOptimalsFound_Iterations(snapshots_agglomerative)"
   ]
  },
  {
   "cell_type": "code",
   "execution_count": 10,
   "metadata": {},
   "outputs": [],
   "source": [
    "SubPlot_kw = {'autoscale_on':False,'xbound':(-200,200),'ybound':(-200,200)}\n",
    "\n",
    "# PlottingSnapshots(snapshots_agglomerative,9,SubPlot_kw)"
   ]
  },
  {
   "cell_type": "markdown",
   "metadata": {},
   "source": [
    "## Differential Evolution with K Means"
   ]
  },
  {
   "cell_type": "code",
   "execution_count": 11,
   "metadata": {},
   "outputs": [],
   "source": [
    "functionNumber = '9'\n",
    "dimension = 2  #Dimensions = 2, 10, 20, 30, 50 or 100. Some functions doesn't work with all dimensions\n",
    "objectiveFunction = objectiveFunctionCEC(functionNumber,dimension=dimension)\n",
    "\n",
    "lower , upper = -100 , 100\n",
    "initializeIndividual = individual(lower,upper,dimension)\n",
    "\n",
    "DiffEvol = DifferentialEvolution_Reduction_RandomSample(objectiveFunction,initializeIndividual)\n",
    "\n",
    "iterations = 100\n",
    "populationSize = 75\n",
    "scalingFactor = 0.5\n",
    "crossoverRate = 0.5\n",
    "\n",
    "optimalFound_sample , snapshots_sample =  DiffEvol(iterations,populationSize,scalingFactor,crossoverRate)"
   ]
  },
  {
   "cell_type": "code",
   "execution_count": 12,
   "metadata": {},
   "outputs": [],
   "source": [
    "# PlottingOptimalsFound_Iterations(snapshots_sample)"
   ]
  },
  {
   "cell_type": "code",
   "execution_count": 13,
   "metadata": {},
   "outputs": [],
   "source": [
    "SubPlot_kw = {'autoscale_on':False,'xbound':(-200,200),'ybound':(-200,200)}\n",
    "\n",
    "# PlottingSnapshots(snapshots_sample,9,SubPlot_kw)"
   ]
  }
 ],
 "metadata": {
  "kernelspec": {
   "display_name": "Python 3",
   "language": "python",
   "name": "python3"
  },
  "language_info": {
   "codemirror_mode": {
    "name": "ipython",
    "version": 3
   },
   "file_extension": ".py",
   "mimetype": "text/x-python",
   "name": "python",
   "nbconvert_exporter": "python",
   "pygments_lexer": "ipython3",
   "version": "3.12.5"
  }
 },
 "nbformat": 4,
 "nbformat_minor": 2
}
