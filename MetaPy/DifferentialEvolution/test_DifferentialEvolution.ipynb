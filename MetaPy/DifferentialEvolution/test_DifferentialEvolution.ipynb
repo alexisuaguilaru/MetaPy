{
 "cells": [
  {
   "cell_type": "code",
   "execution_count": 1,
   "metadata": {},
   "outputs": [],
   "source": [
    "from DifferentialEvolution_Plotting import DifferentialEvolution__Plotting as DifferentialEvolution"
   ]
  },
  {
   "cell_type": "code",
   "execution_count": 2,
   "metadata": {},
   "outputs": [],
   "source": [
    "def objetivo(x,y):\n",
    "    return x**2+y**2"
   ]
  },
  {
   "cell_type": "code",
   "execution_count": 3,
   "metadata": {},
   "outputs": [],
   "source": [
    "def individuos():\n",
    "    from numpy.random import default_rng\n",
    "    return default_rng().random((2,))*(2)-1"
   ]
  },
  {
   "cell_type": "code",
   "execution_count": 4,
   "metadata": {},
   "outputs": [],
   "source": [
    "DiffEvol = DifferentialEvolution(objetivo,individuos)"
   ]
  },
  {
   "cell_type": "code",
   "execution_count": 5,
   "metadata": {},
   "outputs": [
    {
     "ename": "TypeError",
     "evalue": "DifferentialEvolution__Plotting.__call__() missing 2 required positional arguments: 'XBoundLimits' and 'YBoundLimits'",
     "output_type": "error",
     "traceback": [
      "\u001b[1;31m---------------------------------------------------------------------------\u001b[0m",
      "\u001b[1;31mTypeError\u001b[0m                                 Traceback (most recent call last)",
      "Cell \u001b[1;32mIn[5], line 6\u001b[0m\n\u001b[0;32m      3\u001b[0m scalingFactor \u001b[38;5;241m=\u001b[39m \u001b[38;5;241m0.4\u001b[39m\n\u001b[0;32m      4\u001b[0m crossoverRate \u001b[38;5;241m=\u001b[39m \u001b[38;5;241m0.8\u001b[39m\n\u001b[1;32m----> 6\u001b[0m ans \u001b[38;5;241m=\u001b[39m \u001b[43mDiffEvol\u001b[49m\u001b[43m(\u001b[49m\u001b[43miterations\u001b[49m\u001b[43m,\u001b[49m\u001b[43mpopulationSize\u001b[49m\u001b[43m,\u001b[49m\u001b[43mscalingFactor\u001b[49m\u001b[43m,\u001b[49m\u001b[43mcrossoverRate\u001b[49m\u001b[43m,\u001b[49m\u001b[38;5;241;43m6\u001b[39;49m\u001b[43m)\u001b[49m\n\u001b[0;32m      7\u001b[0m \u001b[38;5;28mprint\u001b[39m(\u001b[38;5;124mf\u001b[39m\u001b[38;5;124m'\u001b[39m\u001b[38;5;124moptimal found = \u001b[39m\u001b[38;5;132;01m{\u001b[39;00mans\u001b[38;5;132;01m}\u001b[39;00m\u001b[38;5;130;01m\\n\u001b[39;00m\u001b[38;5;124mfunction value = \u001b[39m\u001b[38;5;132;01m{\u001b[39;00mobjetivo(\u001b[38;5;241m*\u001b[39mans)\u001b[38;5;132;01m}\u001b[39;00m\u001b[38;5;124m'\u001b[39m)\n",
      "\u001b[1;31mTypeError\u001b[0m: DifferentialEvolution__Plotting.__call__() missing 2 required positional arguments: 'XBoundLimits' and 'YBoundLimits'"
     ]
    }
   ],
   "source": [
    "iterations = 60\n",
    "populationSize = 25\n",
    "scalingFactor = 0.4\n",
    "crossoverRate = 0.8\n",
    "XBoundLimits = (-1 , 1)\n",
    "YBoundLimits = (-1 , 1)\n",
    "\n",
    "ans = DiffEvol(iterations,populationSize,scalingFactor,crossoverRate,6,XBoundLimits, YBoundLimits)\n",
    "print(f'optimal found = {ans}\\nfunction value = {objetivo(*ans)}')"
   ]
  }
 ],
 "metadata": {
  "kernelspec": {
   "display_name": "Python 3",
   "language": "python",
   "name": "python3"
  },
  "language_info": {
   "codemirror_mode": {
    "name": "ipython",
    "version": 3
   },
   "file_extension": ".py",
   "mimetype": "text/x-python",
   "name": "python",
   "nbconvert_exporter": "python",
   "pygments_lexer": "ipython3",
   "version": "3.10.4"
  }
 },
 "nbformat": 4,
 "nbformat_minor": 2
}
