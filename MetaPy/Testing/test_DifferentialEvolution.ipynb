{
 "cells": [
  {
   "cell_type": "code",
   "execution_count": 2,
   "metadata": {},
   "outputs": [
    {
     "name": "stderr",
     "output_type": "stream",
     "text": [
      "Cloning into 'cec2017-py'...\n"
     ]
    }
   ],
   "source": [
    "!git clone https://github.com/tilleyd/cec2017-py.git"
   ]
  },
  {
   "cell_type": "code",
   "execution_count": 1,
   "metadata": {},
   "outputs": [],
   "source": [
    "import sys\n",
    "sys.path.insert(1, './cec2017-py')\n",
    "sys.path.insert(1, '../DifferentialEvolution')"
   ]
  },
  {
   "cell_type": "code",
   "execution_count": 5,
   "metadata": {},
   "outputs": [],
   "source": [
    "from cec2017 import functions\n",
    "from DifferentialEvolution_Clustering import DifferentialEvolution_Clustering"
   ]
  },
  {
   "cell_type": "code",
   "execution_count": 23,
   "metadata": {},
   "outputs": [],
   "source": [
    "def objectiveFunction(X):\n",
    "    import numpy as np\n",
    "    return np.sum(X**2)"
   ]
  },
  {
   "cell_type": "code",
   "execution_count": 7,
   "metadata": {},
   "outputs": [],
   "source": [
    "def individual(lower_bound,upper_bound,dimension):\n",
    "    def individual_inner():\n",
    "        from numpy import random , reshape\n",
    "        individual = random.default_rng().uniform(lower_bound,upper_bound,dimension)\n",
    "        return individual\n",
    "    return individual_inner"
   ]
  },
  {
   "cell_type": "code",
   "execution_count": 29,
   "metadata": {},
   "outputs": [],
   "source": [
    "# Dimensiones = 2, 10, 20, 30, 50 or 100\n",
    "# Domain [-100,100]**Dimension\n",
    "from sklearn import cluster\n",
    "\n",
    "#objectiveFunction = functions.f5\n",
    "lower , upper = -100 , 100\n",
    "dimension = 2\n",
    "clusteringAlgorithm = cluster.KMeans()\n",
    "\n",
    "DiffEvol = DifferentialEvolution_Clustering(objectiveFunction,individual(lower,upper,dimension),clusteringAlgorithm)"
   ]
  },
  {
   "cell_type": "code",
   "execution_count": 30,
   "metadata": {},
   "outputs": [],
   "source": [
    "iterations = 100\n",
    "populationSize = 50\n",
    "scalingFactor = 0.9\n",
    "crossoverRate = 0.8\n",
    "\n",
    "optimalFound , snapshots = DiffEvol(iterations,populationSize,scalingFactor,crossoverRate)"
   ]
  },
  {
   "cell_type": "code",
   "execution_count": 37,
   "metadata": {},
   "outputs": [
    {
     "data": {
      "text/plain": [
       "(20,\n",
       " array([[-2.25639396, -2.16464511],\n",
       "        [-0.32330749, -0.70583403],\n",
       "        [-2.55548709, -0.92552345],\n",
       "        [-2.67655152, -3.08230691],\n",
       "        [ 0.45749525,  1.05254883],\n",
       "        [ 4.64652928, -0.01586053],\n",
       "        [ 2.57719587,  0.70358293],\n",
       "        [ 0.51894573, -3.47822909],\n",
       "        [ 2.06795328,  1.67104068],\n",
       "        [ 0.3605296 , -1.37611641],\n",
       "        [-4.43831871,  1.32345715],\n",
       "        [ 1.95233136, -2.1466572 ],\n",
       "        [-0.35894914,  2.03082866],\n",
       "        [ 2.33337876,  0.59486747],\n",
       "        [-1.92130101, -1.19551181],\n",
       "        [ 1.67003543,  1.79056052],\n",
       "        [ 3.93819845, -2.00126258],\n",
       "        [-0.39475186, -1.44646366],\n",
       "        [-2.67844323, -0.57488404],\n",
       "        [-0.66185625, -3.52628453],\n",
       "        [ 3.08950126, -1.39358067],\n",
       "        [ 1.34507904,  1.40435661],\n",
       "        [ 2.91255009,  0.1032171 ],\n",
       "        [-1.71535097, -1.0543459 ],\n",
       "        [ 1.15483289,  1.63221151],\n",
       "        [ 0.30429638, -2.00707515],\n",
       "        [ 7.08262614, -1.78497857],\n",
       "        [-2.67954733, -1.29824185],\n",
       "        [ 3.2801997 , -2.23646804],\n",
       "        [ 2.86770968, -0.98580903],\n",
       "        [ 0.43502048, -1.34756962],\n",
       "        [ 3.23501262,  0.59946923],\n",
       "        [-0.87582213, -4.03947113],\n",
       "        [ 2.12542991,  3.56501581],\n",
       "        [-4.65745341, -0.21002657],\n",
       "        [-1.58012596,  1.11924329],\n",
       "        [-3.43880583,  1.82238853],\n",
       "        [-3.26591126,  0.22419782],\n",
       "        [ 1.19527924,  1.23201047],\n",
       "        [ 1.83586198,  0.10004901],\n",
       "        [-2.01175125, -0.85299471],\n",
       "        [-0.63334221,  1.04341703],\n",
       "        [ 0.43281501, -0.82177424],\n",
       "        [ 2.38743803,  2.42537028],\n",
       "        [ 0.02694684, -1.36873922],\n",
       "        [ 1.18028959, -1.17671459],\n",
       "        [-2.89787863, -6.48327384],\n",
       "        [ 3.96226878, -1.0654246 ],\n",
       "        [ 5.14996246,  2.57230073],\n",
       "        [-1.58124944, -0.76812532]]),\n",
       " array([0, 6, 7, 5, 1, 6, 1, 1, 1, 2, 5, 5, 5, 2, 6, 0, 4, 7, 4, 7, 0, 3,\n",
       "        5, 2, 7, 0, 1, 0, 4, 2, 2, 3, 6, 1, 6, 4, 2, 2, 2, 0, 7, 0, 6, 5,\n",
       "        0, 1, 7, 3, 5, 2]))"
      ]
     },
     "execution_count": 37,
     "metadata": {},
     "output_type": "execute_result"
    }
   ],
   "source": [
    "snapshots[20]"
   ]
  }
 ],
 "metadata": {
  "kernelspec": {
   "display_name": "Python 3",
   "language": "python",
   "name": "python3"
  },
  "language_info": {
   "codemirror_mode": {
    "name": "ipython",
    "version": 3
   },
   "file_extension": ".py",
   "mimetype": "text/x-python",
   "name": "python",
   "nbconvert_exporter": "python",
   "pygments_lexer": "ipython3",
   "version": "3.10.4"
  }
 },
 "nbformat": 4,
 "nbformat_minor": 2
}
